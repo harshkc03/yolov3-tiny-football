{
  "nbformat": 4,
  "nbformat_minor": 0,
  "metadata": {
    "colab": {
      "name": "Yolo_train.ipynb",
      "provenance": [],
      "collapsed_sections": [],
      "toc_visible": true
    },
    "kernelspec": {
      "name": "python3",
      "display_name": "Python 3"
    },
    "accelerator": "GPU"
  },
  "cells": [
    {
      "cell_type": "markdown",
      "metadata": {
        "id": "QMLLvrEhsBTY",
        "colab_type": "text"
      },
      "source": [
        "# Download and unzip Football dataset"
      ]
    },
    {
      "cell_type": "code",
      "metadata": {
        "id": "HWsZrtlGGqO_",
        "colab_type": "code",
        "colab": {}
      },
      "source": [
        "!gdown \"https://drive.google.com/uc?export=download&id=1cWAammhiOGvza0PNz7Jr1Y2P7iKyjpMe\""
      ],
      "execution_count": 0,
      "outputs": []
    },
    {
      "cell_type": "code",
      "metadata": {
        "id": "zEdAHEBeGrtb",
        "colab_type": "code",
        "colab": {}
      },
      "source": [
        "!unzip football"
      ],
      "execution_count": 0,
      "outputs": []
    },
    {
      "cell_type": "markdown",
      "metadata": {
        "id": "mGPYnzxasSbr",
        "colab_type": "text"
      },
      "source": [
        "# Clone AlexeyAB's darknet for YOLO"
      ]
    },
    {
      "cell_type": "code",
      "metadata": {
        "id": "PBVaYQbRIkow",
        "colab_type": "code",
        "colab": {}
      },
      "source": [
        "!rm -fr darknet"
      ],
      "execution_count": 0,
      "outputs": []
    },
    {
      "cell_type": "code",
      "metadata": {
        "id": "2eqGj2_WIlhz",
        "colab_type": "code",
        "colab": {}
      },
      "source": [
        "!git clone https://github.com/AlexeyAB/darknet/"
      ],
      "execution_count": 0,
      "outputs": []
    },
    {
      "cell_type": "code",
      "metadata": {
        "id": "PUJliluyNPtp",
        "colab_type": "code",
        "colab": {}
      },
      "source": [
        "%cd darknet\n",
        "!ls"
      ],
      "execution_count": 0,
      "outputs": []
    },
    {
      "cell_type": "markdown",
      "metadata": {
        "id": "L3_nb2-1seOG",
        "colab_type": "text"
      },
      "source": [
        "# Installation of necessary modules"
      ]
    },
    {
      "cell_type": "code",
      "metadata": {
        "id": "AS-motKPKM82",
        "colab_type": "code",
        "colab": {}
      },
      "source": [
        "!ls\n",
        "!sed -i 's/OPENCV=0/OPENCV=1/g' Makefile\n",
        "!sed -i 's/GPU=0/GPU=1/g' Makefile"
      ],
      "execution_count": 0,
      "outputs": []
    },
    {
      "cell_type": "code",
      "metadata": {
        "id": "9j0FEa_9OQwz",
        "colab_type": "code",
        "colab": {}
      },
      "source": [
        "!ls\n",
        "%cd ../\n",
        "!ls"
      ],
      "execution_count": 0,
      "outputs": []
    },
    {
      "cell_type": "code",
      "metadata": {
        "id": "xqvZpkU0Kh9o",
        "colab_type": "code",
        "colab": {}
      },
      "source": [
        "!apt install g++-5\n",
        "!apt install gcc-5\n",
        "\n",
        "!update-alternatives --install /usr/bin/gcc gcc /usr/bin/gcc-5 10\n",
        "!update-alternatives --install /usr/bin/gcc gcc /usr/bin/gcc-5 20\n",
        "!update-alternatives --install /usr/bin/g++ g++ /usr/bin/g++-5 10\n",
        "!update-alternatives --install /usr/bin/g++ g++ /usr/bin/g++-5 20\n",
        "!update-alternatives --install /usr/bin/cc cc /usr/bin/gcc 30\n",
        "!update-alternatives --set cc /usr/bin/gcc\n",
        "!update-alternatives --install /usr/bin/c++ c++ /usr/bin/g++ 30\n",
        "!update-alternatives --set c++ /usr/bin/g++"
      ],
      "execution_count": 0,
      "outputs": []
    },
    {
      "cell_type": "markdown",
      "metadata": {
        "id": "KQhRRP01sywy",
        "colab_type": "text"
      },
      "source": [
        "# Installing CUDA for training with GPU"
      ]
    },
    {
      "cell_type": "code",
      "metadata": {
        "id": "uqSjv-D_KvY1",
        "colab_type": "code",
        "colab": {}
      },
      "source": [
        "#Now, here's a bunch of code that takes the longest to execute here but\n",
        "#It's about installing CUDA and using the beautiful Tesla K80 GPU, so that\n",
        "#Will worth it\n",
        "\n",
        "!apt update -qq;\n",
        "!wget https://developer.nvidia.com/compute/cuda/8.0/Prod2/local_installers/cuda-repo-ubuntu1604-8-0-local-ga2_8.0.61-1_amd64-deb\n",
        "!dpkg -i cuda-repo-ubuntu1604-8-0-local-ga2_8.0.61-1_amd64-deb\n",
        "!apt-get update -qq\n",
        "\n",
        "#Here were are installing compilers and creating some links\n",
        "!apt-get install cuda -y -qq #gcc-5 g++-5 \n",
        "#!ln -s /usr/bin/gcc-5 /usr/local/cuda/bin/gcc\n",
        "#!ln -s /usr/bin/g++-5 /usr/local/cuda/bin/g++\n",
        "!apt update\n",
        "!apt upgrade\n",
        "!apt install cuda-8.0 -y"
      ],
      "execution_count": 0,
      "outputs": []
    },
    {
      "cell_type": "markdown",
      "metadata": {
        "id": "HfZSDMr4tCWf",
        "colab_type": "text"
      },
      "source": [
        "# Running darknet **make**"
      ]
    },
    {
      "cell_type": "code",
      "metadata": {
        "id": "04G27gjFQ52i",
        "colab_type": "code",
        "outputId": "99d40d8a-6ccc-46a3-9383-b708859a4162",
        "colab": {
          "base_uri": "https://localhost:8080/",
          "height": 136
        }
      },
      "source": [
        "!ls\n",
        "%cd darknet\n",
        "#make"
      ],
      "execution_count": 0,
      "outputs": [
        {
          "output_type": "stream",
          "text": [
            "cuda-repo-ubuntu1604-8-0-local-ga2_8.0.61-1_amd64-deb  obj.names\n",
            "darknet\t\t\t\t\t\t       sample_data\n",
            "drive\t\t\t\t\t\t       yolov3-tiny.conv.15\n",
            "f2.jpg\t\t\t\t\t\t       yolov3-tiny-football\n",
            "Football_dataset\t\t\t\t       yolov3-tiny-obj.cfg\n",
            "obj.data\n",
            "/content/darknet\n"
          ],
          "name": "stdout"
        }
      ]
    },
    {
      "cell_type": "markdown",
      "metadata": {
        "id": "7cwyPHZPtNca",
        "colab_type": "text"
      },
      "source": [
        "# Downloading pre-trained weights for testing"
      ]
    },
    {
      "cell_type": "code",
      "metadata": {
        "id": "3S-KcFDkk_oR",
        "colab_type": "code",
        "colab": {}
      },
      "source": [
        "!wget https://pjreddie.com/media/files/yolov3-tiny.weights"
      ],
      "execution_count": 0,
      "outputs": []
    },
    {
      "cell_type": "code",
      "metadata": {
        "id": "uUNBirT1Q8qC",
        "colab_type": "code",
        "colab": {}
      },
      "source": [
        "!./darknet detect /content/yolov3-tiny-obj.cfg backup/yolov3-tiny-obj_1000.weights f2.jpg"
      ],
      "execution_count": 0,
      "outputs": []
    },
    {
      "cell_type": "code",
      "metadata": {
        "id": "D88slKoAmaCp",
        "colab_type": "code",
        "colab": {}
      },
      "source": [
        "!./darknet partial cfg/yolov3-tiny.cfg yolov3-tiny.weights yolov3-tiny.conv.15 15"
      ],
      "execution_count": 0,
      "outputs": []
    },
    {
      "cell_type": "markdown",
      "metadata": {
        "id": "RuXwUx07wU3-",
        "colab_type": "text"
      },
      "source": [
        "# Copying weights from drive"
      ]
    },
    {
      "cell_type": "code",
      "metadata": {
        "id": "SaAm655Nd2Sw",
        "colab_type": "code",
        "colab": {}
      },
      "source": [
        "import shutil\n",
        "shutil.copy2(\"/content/drive/My Drive/yolov3-tiny-obj_last.weights\", \"/content/darknet/backup\")"
      ],
      "execution_count": 0,
      "outputs": []
    },
    {
      "cell_type": "markdown",
      "metadata": {
        "id": "aJbptFxhwa4M",
        "colab_type": "text"
      },
      "source": [
        "# Copying weights to drive"
      ]
    },
    {
      "cell_type": "code",
      "metadata": {
        "id": "uV82nCyLv8O0",
        "colab_type": "code",
        "outputId": "71a62eb2-7c32-4dda-ccee-caf49ebfa601",
        "colab": {
          "base_uri": "https://localhost:8080/",
          "height": 34
        }
      },
      "source": [
        "import shutil\n",
        "shutil.copy2(\"/content/darknet/backup/yolov3-tiny-obj_best.weights\", \"/content/drive/My Drive\")"
      ],
      "execution_count": 0,
      "outputs": [
        {
          "output_type": "execute_result",
          "data": {
            "text/plain": [
              "'/content/drive/My Drive/yolov3-tiny-obj_last.weights'"
            ]
          },
          "metadata": {
            "tags": []
          },
          "execution_count": 25
        }
      ]
    },
    {
      "cell_type": "markdown",
      "metadata": {
        "id": "3SDrDczftn46",
        "colab_type": "text"
      },
      "source": [
        "# Command for training first time"
      ]
    },
    {
      "cell_type": "code",
      "metadata": {
        "id": "tRpOxvgpSHPl",
        "colab_type": "code",
        "colab": {}
      },
      "source": [
        "!./darknet detector train /content/obj.data /content/yolov3-tiny-obj.cfg /content/yolov3-tiny.conv.15 -map -dont_show"
      ],
      "execution_count": 0,
      "outputs": []
    },
    {
      "cell_type": "markdown",
      "metadata": {
        "id": "cnMbZhe8trPT",
        "colab_type": "text"
      },
      "source": [
        "# Command for testing trained weights (Image)"
      ]
    },
    {
      "cell_type": "code",
      "metadata": {
        "id": "ohgzMw-1sKe8",
        "colab_type": "code",
        "colab": {}
      },
      "source": [
        "!./darknet detector test /content/obj.data /content/yolov3-tiny-obj.cfg backup/yolov3-tiny-obj_last.weights f5.jpg -i 0 -thresh 0.3"
      ],
      "execution_count": 0,
      "outputs": []
    },
    {
      "cell_type": "markdown",
      "metadata": {
        "id": "InFd45sgFVvH",
        "colab_type": "text"
      },
      "source": [
        "# Command for testing trained weights (Video)"
      ]
    },
    {
      "cell_type": "code",
      "metadata": {
        "id": "r4xukyfJ3On8",
        "colab_type": "code",
        "colab": {}
      },
      "source": [
        "!./darknet detector demo /content/obj.data /content/yolov3-tiny-obj.cfg backup/yolov3-tiny-obj_last.weights  -dont_show football.mp4 -i 0 -out_filename veout.avi"
      ],
      "execution_count": 0,
      "outputs": []
    },
    {
      "cell_type": "markdown",
      "metadata": {
        "id": "SBoQVkIstwo5",
        "colab_type": "text"
      },
      "source": [
        "# Command for continuing training with last weights"
      ]
    },
    {
      "cell_type": "code",
      "metadata": {
        "id": "1odKM5sJt_Vq",
        "colab_type": "code",
        "colab": {}
      },
      "source": [
        "!./darknet detector train /content/obj.data /content/yolov3-tiny-obj.cfg backup/yolov3-tiny-obj_last.weights -dont_show -mjpeg_port 8090 -map"
      ],
      "execution_count": 0,
      "outputs": []
    },
    {
      "cell_type": "markdown",
      "metadata": {
        "id": "Bkls0cBLt3yP",
        "colab_type": "text"
      },
      "source": [
        "# Command for checking mAP of trained weights"
      ]
    },
    {
      "cell_type": "code",
      "metadata": {
        "id": "cqsxHyOlAzJg",
        "colab_type": "code",
        "colab": {}
      },
      "source": [
        "!./darknet detector map /content/obj.data /content/yolov3-tiny-obj.cfg backup/yolov3-tiny-obj_last.weights"
      ],
      "execution_count": 0,
      "outputs": []
    },
    {
      "cell_type": "markdown",
      "metadata": {
        "id": "PWTOkLUtt8hW",
        "colab_type": "text"
      },
      "source": [
        "# Command for calculating anchors"
      ]
    },
    {
      "cell_type": "code",
      "metadata": {
        "id": "nJ6Q20P7fmXz",
        "colab_type": "code",
        "colab": {}
      },
      "source": [
        "!./darknet detector calc_anchors /content/obj.data -num_of_clusters 12 -width 832 -height 832 -show"
      ],
      "execution_count": 0,
      "outputs": []
    },
    {
      "cell_type": "markdown",
      "metadata": {
        "id": "S5abA8KPuAiu",
        "colab_type": "text"
      },
      "source": [
        "# ==================================================="
      ]
    },
    {
      "cell_type": "markdown",
      "metadata": {
        "id": "ZjLzlk3TuIc1",
        "colab_type": "text"
      },
      "source": [
        "# Pushing files to GitHub"
      ]
    },
    {
      "cell_type": "code",
      "metadata": {
        "id": "EEucbJkzZVMb",
        "colab_type": "code",
        "colab": {}
      },
      "source": [
        ""
      ],
      "execution_count": 0,
      "outputs": []
    },
    {
      "cell_type": "code",
      "metadata": {
        "id": "1YkPKCvhWJSo",
        "colab_type": "code",
        "colab": {}
      },
      "source": [
        "!git clone https://github.com/harshkc03/yolov3-tiny-football.git"
      ],
      "execution_count": 0,
      "outputs": []
    },
    {
      "cell_type": "code",
      "metadata": {
        "id": "QaTblFcPX_YZ",
        "colab_type": "code",
        "colab": {}
      },
      "source": [
        "%cd yolov3-tiny-football\n",
        "!ls"
      ],
      "execution_count": 0,
      "outputs": []
    },
    {
      "cell_type": "code",
      "metadata": {
        "id": "ZuRp-hkXYIx2",
        "colab_type": "code",
        "colab": {}
      },
      "source": [
        "!git init"
      ],
      "execution_count": 0,
      "outputs": []
    },
    {
      "cell_type": "code",
      "metadata": {
        "id": "jyTuAnfmYLq5",
        "colab_type": "code",
        "colab": {}
      },
      "source": [
        "!git status"
      ],
      "execution_count": 0,
      "outputs": []
    },
    {
      "cell_type": "code",
      "metadata": {
        "id": "tJrL-ow8YRcA",
        "colab_type": "code",
        "colab": {}
      },
      "source": [
        "!git add ."
      ],
      "execution_count": 0,
      "outputs": []
    },
    {
      "cell_type": "code",
      "metadata": {
        "id": "dA_iQRZxYdx5",
        "colab_type": "code",
        "colab": {}
      },
      "source": [
        "!git status"
      ],
      "execution_count": 0,
      "outputs": []
    },
    {
      "cell_type": "code",
      "metadata": {
        "id": "P2PHO30OakIg",
        "colab_type": "code",
        "colab": {}
      },
      "source": [
        "!git commit -m \"First commit\""
      ],
      "execution_count": 0,
      "outputs": []
    },
    {
      "cell_type": "code",
      "metadata": {
        "id": "5xsYP-hTnXgW",
        "colab_type": "code",
        "colab": {}
      },
      "source": [
        "!git remote rm origin"
      ],
      "execution_count": 0,
      "outputs": []
    },
    {
      "cell_type": "code",
      "metadata": {
        "id": "6pKDmXQInFZr",
        "colab_type": "code",
        "colab": {}
      },
      "source": [
        ""
      ],
      "execution_count": 0,
      "outputs": []
    },
    {
      "cell_type": "code",
      "metadata": {
        "id": "dmBMVu27Y057",
        "colab_type": "code",
        "colab": {}
      },
      "source": [
        "!git push origin master"
      ],
      "execution_count": 0,
      "outputs": []
    },
    {
      "cell_type": "code",
      "metadata": {
        "id": "pdAO_boSZ28H",
        "colab_type": "code",
        "colab": {}
      },
      "source": [
        "!git status"
      ],
      "execution_count": 0,
      "outputs": []
    },
    {
      "cell_type": "markdown",
      "metadata": {
        "id": "M2-D6berG_6z",
        "colab_type": "text"
      },
      "source": [
        "# IP adress (testing purpose)"
      ]
    },
    {
      "cell_type": "code",
      "metadata": {
        "id": "y84EGVBQmX9l",
        "colab_type": "code",
        "outputId": "9e1ef5c4-7605-4794-c833-1a47f8700c28",
        "colab": {
          "base_uri": "https://localhost:8080/",
          "height": 34
        }
      },
      "source": [
        "!curl ipecho.net/plain"
      ],
      "execution_count": 0,
      "outputs": [
        {
          "output_type": "stream",
          "text": [
            "35.194.177.217"
          ],
          "name": "stdout"
        }
      ]
    },
    {
      "cell_type": "code",
      "metadata": {
        "id": "ch0SlJ5bHaWI",
        "colab_type": "code",
        "outputId": "7bd68bf3-04ad-4ccd-fe33-2a88f1415c2c",
        "colab": {
          "base_uri": "https://localhost:8080/",
          "height": 34
        }
      },
      "source": [
        "!ifconfig"
      ],
      "execution_count": 0,
      "outputs": [
        {
          "output_type": "stream",
          "text": [
            "/bin/bash: ifconfig: command not found\n"
          ],
          "name": "stdout"
        }
      ]
    },
    {
      "cell_type": "markdown",
      "metadata": {
        "id": "ScuzCvW216i1",
        "colab_type": "text"
      },
      "source": [
        "# Extra codes"
      ]
    },
    {
      "cell_type": "code",
      "metadata": {
        "id": "GjJuRhLM7_2o",
        "colab_type": "code",
        "outputId": "9094720d-66ba-474b-c20f-1eb6b52e91ff",
        "colab": {
          "base_uri": "https://localhost:8080/",
          "height": 34
        }
      },
      "source": [
        "import shutil\n",
        "shutil.copy2(\"/content/darknet/veout.avi\", \"/content/drive/My Drive\")"
      ],
      "execution_count": 0,
      "outputs": [
        {
          "output_type": "execute_result",
          "data": {
            "text/plain": [
              "'/content/drive/My Drive/veout.avi'"
            ]
          },
          "metadata": {
            "tags": []
          },
          "execution_count": 24
        }
      ]
    }
  ]
}